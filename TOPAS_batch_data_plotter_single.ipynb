{
 "cells": [
  {
   "cell_type": "code",
   "execution_count": null,
   "metadata": {},
   "outputs": [],
   "source": [
    "import numpy as np\n",
    "import matplotlib.pyplot as plt\n",
    "import yaml"
   ]
  },
  {
   "cell_type": "markdown",
   "metadata": {
    "collapsed": true
   },
   "source": [
    "Input the test number. This will be included in the input file name."
   ]
  },
  {
   "cell_type": "code",
   "execution_count": null,
   "metadata": {},
   "outputs": [],
   "source": [
    "filenumber = 65"
   ]
  },
  {
   "cell_type": "markdown",
   "metadata": {},
   "source": [
    "Load the data."
   ]
  },
  {
   "cell_type": "code",
   "execution_count": null,
   "metadata": {},
   "outputs": [],
   "source": [
    "filename = 'batch_results/results_{:03d}.txt'.format(filenumber)\n",
    "DataArray=np.loadtxt(filename, usecols=(2,4,6,8,10,12))\n",
    "filelength=len(DataArray)\n",
    "print(filename, 'contains', filelength, 'analysed spectra from', filelength, 'images.')"
   ]
  },
  {
   "cell_type": "code",
   "execution_count": null,
   "metadata": {},
   "outputs": [],
   "source": [
    "Data_Rwp=np.loadtxt(filename, usecols=(2))\n",
    "Data_GOF=np.loadtxt(filename, usecols=(4))\n",
    "Data_alpha_a=np.loadtxt(filename, usecols=(6))\n",
    "Data_alpha_c=np.loadtxt(filename, usecols=(8))\n",
    "Data_alpha_wt=np.loadtxt(filename, usecols=(10))\n",
    "Data_beta_a=np.loadtxt(filename, usecols=(12))\n",
    "Data_beta_wt=np.loadtxt(filename, usecols=(14))\n",
    "\n",
    "Image_Number=np.arange(1,filelength+1,1)"
   ]
  },
  {
   "cell_type": "markdown",
   "metadata": {},
   "source": [
    "Plot commands."
   ]
  },
  {
   "cell_type": "code",
   "execution_count": null,
   "metadata": {},
   "outputs": [],
   "source": [
    "plt.rc('xtick',labelsize=20)\n",
    "plt.rc('ytick',labelsize=20)\n",
    "#plt.rc('legend',fontsize=20)\n",
    "plt.rc('axes',linewidth=2)\n",
    "plt.rc('xtick.major',width=2,size=10)\n",
    "plt.rc('xtick.minor', width=2, size=5)\n",
    "plt.rc('ytick.major',width=2,size=10)\n",
    "plt.rc('ytick.minor',width=2,size=5)"
   ]
  },
  {
   "cell_type": "markdown",
   "metadata": {},
   "source": [
    "Plot the $\\mathrm{R_{wp}}$ value"
   ]
  },
  {
   "cell_type": "code",
   "execution_count": null,
   "metadata": {
    "scrolled": false
   },
   "outputs": [],
   "source": [
    "plt.figure(figsize=(10,8))\n",
    "plt.minorticks_on()\n",
    "\n",
    "plt.plot(Image_Number[:],Data_Rwp[:],color='black',linewidth=5);\n",
    "\n",
    "plt.xlabel('Image Number', fontsize=28)\n",
    "plt.ylabel('$\\mathrm{R_{wp}}$ Value', fontsize=28)\n",
    "plt.ylim(0,60)\n",
    "plt.xlim(0,filelength)\n",
    "\n",
    "plt.savefig('batch_plots/Rwp_{:03d}.png'.format(filenumber))\n",
    "plt.show()"
   ]
  },
  {
   "cell_type": "markdown",
   "metadata": {},
   "source": [
    "Plot the goodness of fit."
   ]
  },
  {
   "cell_type": "code",
   "execution_count": null,
   "metadata": {},
   "outputs": [],
   "source": [
    "plt.figure(figsize=(10,8))\n",
    "plt.minorticks_on()\n",
    "\n",
    "plt.plot(Image_Number[:],Data_GOF[:],color='darkviolet',linewidth=5 );\n",
    "\n",
    "plt.xlabel('Image Number', fontsize=28)\n",
    "plt.ylabel('GOF Value', fontsize=28)\n",
    "plt.ylim(0,2)\n",
    "plt.xlim(0,filelength)\n",
    "\n",
    "plt.savefig('batch_plots/GOF_{:03d}.png'.format(filenumber))\n",
    "plt.show()"
   ]
  },
  {
   "cell_type": "markdown",
   "metadata": {},
   "source": [
    "Plot the $\\alpha$ and $\\beta$ lattice parameters for the entire experiment."
   ]
  },
  {
   "cell_type": "code",
   "execution_count": null,
   "metadata": {
    "scrolled": false
   },
   "outputs": [],
   "source": [
    "Seconds=Image_Number/10\n",
    "\n",
    "fig,((ax1),(ax2),(ax3))=plt.subplots(3, 1, figsize=(20,10))\n",
    "\n",
    "ax1.plot(Seconds[:],Data_alpha_c[:],label='${\\\\alpha_c}$',color='red',linewidth=5)\n",
    "# ax1.set_xlim(260,300)\n",
    "# ax1.set_ylim(5.165,5.190)\n",
    "ax1.minorticks_on()\n",
    "ax1.legend(loc=1, bbox_to_anchor=(0.125,1), prop={'size': 25}) #top left\n",
    "# ax1.legend(loc=1, bbox_to_anchor=(0.125,0.42), prop={'size': 25}) #bottom left\n",
    "\n",
    "ax2.set_ylabel('Lattice Parameter, ${\\\\AA}$ ', fontsize=36)\n",
    "ax2.yaxis.set_label_coords(-0.07,0.5)\n",
    "ax2.plot(Seconds[:],Data_alpha_a[:], label='${\\\\alpha_a}$', color='green',linewidth=5)\n",
    "# ax2.set_xlim(260,300)\n",
    "# ax2.set_ylim(3.227,3.252)\n",
    "ax2.minorticks_on()\n",
    "ax2.legend(loc=1, bbox_to_anchor=(0.125,1), prop={'size': 25}) #top left\n",
    "# ax2.legend(loc=1, bbox_to_anchor=(0.125,0.42), prop={'size': 25}) #bottom left\n",
    "\n",
    "ax3.plot(Seconds[:],Data_beta_a[:],label='${\\\\beta_a}$',color='blue',linewidth=5)\n",
    "ax3.set_xlabel('Time, s', fontsize=36)\n",
    "# ax3.set_xlim(260,300)\n",
    "# ax3.set_ylim(3.55,3.575)\n",
    "ax3.minorticks_on()\n",
    "ax3.legend(loc=1, bbox_to_anchor=(0.125,1), prop={'size': 25}) #top left\n",
    "# ax3.legend(loc=1, bbox_to_anchor=(0.125,0.42), prop={'size': 25}) #bottom left\n",
    "\n",
    "plt.savefig('batch_plots/Lattice_Full_{:03d}.png'.format(filenumber))\n",
    "plt.show()"
   ]
  },
  {
   "cell_type": "markdown",
   "metadata": {},
   "source": [
    "Plot the $\\alpha$ and $\\beta$ lattice parameters during loading."
   ]
  },
  {
   "cell_type": "code",
   "execution_count": null,
   "metadata": {},
   "outputs": [],
   "source": [
    "Seconds=Image_Number/10\n",
    "\n",
    "fig,((ax1),(ax2),(ax3))=plt.subplots(3, 1, figsize=(20,10))\n",
    "\n",
    "ax1.plot(Seconds[:],Data_alpha_c[:],label='${\\\\alpha_c}$',color='red',linewidth=5)\n",
    "ax1.set_xlim(285,325)\n",
    "ax1.set_ylim(5.1775,5.1975)\n",
    "ax1.minorticks_on()\n",
    "# ax1.legend(loc=1, bbox_to_anchor=(0.125,1), prop={'size': 25}) #top left\n",
    "ax1.legend(loc=1, bbox_to_anchor=(0.125,0.42), prop={'size': 25}) #bottom left\n",
    "\n",
    "ax2.set_ylabel('Lattice Parameter, ${\\\\AA}$ ', fontsize=36)\n",
    "ax2.yaxis.set_label_coords(-0.07,0.5)\n",
    "ax2.plot(Seconds[:],Data_alpha_a[:], label='${\\\\alpha_a}$', color='green',linewidth=5)\n",
    "ax2.set_xlim(285,325)\n",
    "ax2.set_ylim(3.233,3.253)\n",
    "ax2.minorticks_on()\n",
    "ax2.legend(loc=1, bbox_to_anchor=(0.125,1), prop={'size': 25}) #top left\n",
    "# ax2.legend(loc=1, bbox_to_anchor=(0.125,0.42), prop={'size': 25}) #bottom left\n",
    "\n",
    "ax3.plot(Seconds[:],Data_beta_a[:],label='${\\\\beta_a}$',color='blue',linewidth=5)\n",
    "ax3.set_xlabel('Time, s', fontsize=36)\n",
    "ax3.set_xlim(285,325)\n",
    "ax3.set_ylim(3.575,3.595)\n",
    "ax3.minorticks_on()\n",
    "ax3.legend(loc=1, bbox_to_anchor=(0.125,1), prop={'size': 25}) #top left\n",
    "# ax3.legend(loc=1, bbox_to_anchor=(0.125,0.42), prop={'size': 25}) #bottom left\n",
    "\n",
    "plt.savefig('batch_plots/Lattice_Deform_{:03d}.png'.format(filenumber))\n",
    "plt.show()"
   ]
  },
  {
   "cell_type": "markdown",
   "metadata": {},
   "source": [
    "Plot the $\\alpha$ and $\\beta$ phase fraction for the entire experiment."
   ]
  },
  {
   "cell_type": "code",
   "execution_count": null,
   "metadata": {},
   "outputs": [],
   "source": [
    "Seconds=Image_Number/10\n",
    "secondlength=filelength/10\n",
    "\n",
    "plt.figure(figsize=(10,8))\n",
    "\n",
    "plt.rc('xtick',labelsize=20)\n",
    "plt.rc('ytick',labelsize=20)\n",
    "plt.rc('legend',fontsize=20)\n",
    "plt.rc('axes',linewidth=2)\n",
    "plt.rc('xtick.major',width=2,size=10)\n",
    "plt.rc('xtick.minor', width=2, size=5)\n",
    "plt.rc('ytick.major',width=2,size=10)\n",
    "plt.rc('ytick.minor',width=2,size=5)\n",
    "\n",
    "plt.minorticks_on()\n",
    "plt.plot(Seconds[:],Data_alpha_wt[:], label='${\\\\alpha}$-phase', color='red',linewidth=8);\n",
    "plt.plot(Seconds[:],Data_beta_wt[:],label='${\\\\beta}$-phase',color='blue',linewidth=8)\n",
    "\n",
    "plt.xlabel('Time, s', fontsize=28)\n",
    "plt.ylabel('Phase Fraction, wt.%', fontsize=28)\n",
    "\n",
    "plt.xlim(0,secondlength)\n",
    "plt.ylim(0,100)\n",
    "\n",
    "plt.legend()\n",
    "\n",
    "plt.savefig('batch_plots/PhaseFrac_Full_{:03d}.png'.format(filenumber))\n",
    "plt.show()"
   ]
  },
  {
   "cell_type": "markdown",
   "metadata": {},
   "source": [
    "Plot the $\\alpha$ and $\\beta$ phase fraction during loading."
   ]
  },
  {
   "cell_type": "code",
   "execution_count": null,
   "metadata": {},
   "outputs": [],
   "source": [
    "Seconds=Image_Number/10\n",
    "secondlength=filelength/10\n",
    "\n",
    "plt.figure(figsize=(10,8))\n",
    "\n",
    "plt.rc('xtick',labelsize=20)\n",
    "plt.rc('ytick',labelsize=20)\n",
    "plt.rc('legend',fontsize=20)\n",
    "plt.rc('axes',linewidth=2)\n",
    "plt.rc('xtick.major',width=2,size=10)\n",
    "plt.rc('xtick.minor', width=2, size=5)\n",
    "plt.rc('ytick.major',width=2,size=10)\n",
    "plt.rc('ytick.minor',width=2,size=5)\n",
    "\n",
    "plt.minorticks_on()\n",
    "plt.plot(Seconds[:],Data_alpha_wt[:], label='${\\\\alpha}$-phase', color='red',linewidth=8);\n",
    "plt.plot(Seconds[:],Data_beta_wt[:],label='${\\\\beta}$-phase',color='blue',linewidth=8)\n",
    "\n",
    "plt.xlabel('Time, s', fontsize=28)\n",
    "plt.ylabel('Phase Fraction, wt.%', fontsize=28)\n",
    "\n",
    "plt.ylim(15,75)\n",
    "plt.xlim(285,325)\n",
    "\n",
    "plt.legend()\n",
    "\n",
    "plt.savefig('batch_plots/PhaseFrac_Deform_{:03d}.png'.format(filenumber))\n",
    "plt.show()"
   ]
  },
  {
   "cell_type": "code",
   "execution_count": null,
   "metadata": {},
   "outputs": [],
   "source": []
  }
 ],
 "metadata": {
  "kernelspec": {
   "display_name": "Python 3 (ipykernel)",
   "language": "python",
   "name": "python3"
  },
  "language_info": {
   "codemirror_mode": {
    "name": "ipython",
    "version": 3
   },
   "file_extension": ".py",
   "mimetype": "text/x-python",
   "name": "python",
   "nbconvert_exporter": "python",
   "pygments_lexer": "ipython3",
   "version": "3.7.3"
  }
 },
 "nbformat": 4,
 "nbformat_minor": 2
}
