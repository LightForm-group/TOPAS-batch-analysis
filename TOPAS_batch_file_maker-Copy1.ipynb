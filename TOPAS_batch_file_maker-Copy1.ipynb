{
 "cells": [
  {
   "cell_type": "markdown",
   "metadata": {},
   "source": [
    "## Test output string"
   ]
  },
  {
   "cell_type": "code",
   "execution_count": 1,
   "metadata": {},
   "outputs": [
    {
     "name": "stdout",
     "output_type": "stream",
     "text": [
      "C:\n",
      "cd C:\\TOPAS5\n",
      "\n",
      "\n",
      "C:\\TOPAS5\\tc C:\\ChrisBatch\\adc_090_ZrY2Nb_NDload_650C_15mms_00000 \"macro filename { C:\\ChrisBatch\\Data\\adc_090_ZrY2Nb_NDload_650C_15mms_00000.xy}\"\n",
      "copy C:\\ChrisBatch\\adc_090_ZrY2Nb_NDload_650C_15mms_00000.out C:\\ChrisBatch\\adc_090_ZrY2Nb_NDload_650C_15mms_00000.inp\n",
      "\n",
      "\n",
      "C:\\TOPAS5\\tc C:\\ChrisBatch\\adc_090_ZrY2Nb_NDload_650C_15mms_00000 \"macro filename { C:\\ChrisBatch\\Data\\adc_090_ZrY2Nb_NDload_650C_15mms_00001.xy}\"\n",
      "copy C:\\ChrisBatch\\adc_090_ZrY2Nb_NDload_650C_15mms_00000.out C:\\ChrisBatch\\adc_090_ZrY2Nb_NDload_650C_15mms_00001.inp\n",
      "\n",
      "\n",
      "C:\\TOPAS5\\tc C:\\ChrisBatch\\adc_090_ZrY2Nb_NDload_650C_15mms_00001 \"macro filename { C:\\ChrisBatch\\Data\\adc_090_ZrY2Nb_NDload_650C_15mms_00002.xy}\"\n",
      "copy C:\\ChrisBatch\\adc_090_ZrY2Nb_NDload_650C_15mms_00001.out C:\\ChrisBatch\\adc_090_ZrY2Nb_NDload_650C_15mms_00002.inp\n",
      "\n",
      "\n",
      "C:\\TOPAS5\\tc C:\\ChrisBatch\\adc_090_ZrY2Nb_NDload_650C_15mms_00002 \"macro filename { C:\\ChrisBatch\\Data\\adc_090_ZrY2Nb_NDload_650C_15mms_00003.xy}\"\n",
      "copy C:\\ChrisBatch\\adc_090_ZrY2Nb_NDload_650C_15mms_00002.out C:\\ChrisBatch\\adc_090_ZrY2Nb_NDload_650C_15mms_00003.inp\n",
      "\n",
      "\n",
      "C:\\TOPAS5\\tc C:\\ChrisBatch\\adc_090_ZrY2Nb_NDload_650C_15mms_00003 \"macro filename { C:\\ChrisBatch\\Data\\adc_090_ZrY2Nb_NDload_650C_15mms_00004.xy}\"\n",
      "copy C:\\ChrisBatch\\adc_090_ZrY2Nb_NDload_650C_15mms_00003.out C:\\ChrisBatch\\adc_090_ZrY2Nb_NDload_650C_15mms_00004.inp\n",
      "\n",
      "\n",
      "C:\\TOPAS5\\tc C:\\ChrisBatch\\adc_090_ZrY2Nb_NDload_650C_15mms_00004 \"macro filename { C:\\ChrisBatch\\Data\\adc_090_ZrY2Nb_NDload_650C_15mms_00005.xy}\"\n",
      "copy C:\\ChrisBatch\\adc_090_ZrY2Nb_NDload_650C_15mms_00004.out C:\\ChrisBatch\\adc_090_ZrY2Nb_NDload_650C_15mms_00005.inp\n",
      "\n",
      "\n",
      "pause\n"
     ]
    }
   ],
   "source": [
    "print(\"C:\\ncd C:\\TOPAS5\")\n",
    "\n",
    "start=0\n",
    "end=5\n",
    "\n",
    "print(\"\\n\\nC:\\TOPAS5\\\\tc C:\\ChrisBatch\\\\adc_090_ZrY2Nb_NDload_650C_15mms_{:05d} \\\"macro filename {{ C:\\ChrisBatch\\Data\\\\adc_090_ZrY2Nb_NDload_650C_15mms_{:05d}.xy}}\\\"\\ncopy C:\\ChrisBatch\\\\adc_090_ZrY2Nb_NDload_650C_15mms_{:05d}.out C:\\ChrisBatch\\\\adc_090_ZrY2Nb_NDload_650C_15mms_{:05d}.inp\".format(start,start,start,start))\n",
    "\n",
    "for i in range (start,end):\n",
    "    \n",
    "    x=i\n",
    "    y=i+1\n",
    "\n",
    "######################## Put in one slash \\ to stop any formatting i.e. \\\\t prints \\t !!!!!!!!!!! ######################\n",
    "######################## For curly brackets add two, i.e. print({{) prints out { !!!!!!!!!!! ######################    \n",
    "    \n",
    "    print(\"\\n\\nC:\\TOPAS5\\\\tc C:\\ChrisBatch\\\\adc_090_ZrY2Nb_NDload_650C_15mms_{:05d} \\\"macro filename {{ C:\\ChrisBatch\\Data\\\\adc_090_ZrY2Nb_NDload_650C_15mms_{:05d}.xy}}\\\"\\ncopy C:\\ChrisBatch\\\\adc_090_ZrY2Nb_NDload_650C_15mms_{:05d}.out C:\\ChrisBatch\\\\adc_090_ZrY2Nb_NDload_650C_15mms_{:05d}.inp\".format(x,y,x,y))\n",
    "    \n",
    "print(\"\\n\\npause\")"
   ]
  },
  {
   "cell_type": "code",
   "execution_count": 25,
   "metadata": {},
   "outputs": [
    {
     "name": "stdout",
     "output_type": "stream",
     "text": [
      "C:\n",
      "cd C:\\TOPAS5\n",
      "\n",
      "\n",
      "C:\\TOPAS5\\tc C:\\ChrisBatch\\adc_090_ZrY2Nb_NDload_650C_15mms_00000 \"macro filename { C:\\ChrisBatch\\Data\\adc_090_ZrY2Nb_NDload_650C_15mms_00000.xy}\"\n",
      "copy C:\\ChrisBatch\\adc_090_ZrY2Nb_NDload_650C_15mms_00000.out C:\\ChrisBatch\\adc_090_ZrY2Nb_NDload_650C_15mms_00000.inp\n",
      "\n",
      "\n",
      "C:\\TOPAS5\\tc C:\\ChrisBatch\\adc_090_ZrY2Nb_NDload_650C_15mms_00000 \"macro filename { C:\\ChrisBatch\\Data\\adc_090_ZrY2Nb_NDload_650C_15mms_00001.xy}\"\n",
      "copy C:\\ChrisBatch\\adc_090_ZrY2Nb_NDload_650C_15mms_00000.out C:\\ChrisBatch\\adc_090_ZrY2Nb_NDload_650C_15mms_00001.inp\n",
      "\n",
      "\n",
      "C:\\TOPAS5\\tc C:\\ChrisBatch\\adc_090_ZrY2Nb_NDload_650C_15mms_00001 \"macro filename { C:\\ChrisBatch\\Data\\adc_090_ZrY2Nb_NDload_650C_15mms_00002.xy}\"\n",
      "copy C:\\ChrisBatch\\adc_090_ZrY2Nb_NDload_650C_15mms_00001.out C:\\ChrisBatch\\adc_090_ZrY2Nb_NDload_650C_15mms_00002.inp\n",
      "\n",
      "\n",
      "C:\\TOPAS5\\tc C:\\ChrisBatch\\adc_090_ZrY2Nb_NDload_650C_15mms_00002 \"macro filename { C:\\ChrisBatch\\Data\\adc_090_ZrY2Nb_NDload_650C_15mms_00003.xy}\"\n",
      "copy C:\\ChrisBatch\\adc_090_ZrY2Nb_NDload_650C_15mms_00002.out C:\\ChrisBatch\\adc_090_ZrY2Nb_NDload_650C_15mms_00003.inp\n",
      "\n",
      "\n",
      "C:\\TOPAS5\\tc C:\\ChrisBatch\\adc_090_ZrY2Nb_NDload_650C_15mms_00003 \"macro filename { C:\\ChrisBatch\\Data\\adc_090_ZrY2Nb_NDload_650C_15mms_00004.xy}\"\n",
      "copy C:\\ChrisBatch\\adc_090_ZrY2Nb_NDload_650C_15mms_00003.out C:\\ChrisBatch\\adc_090_ZrY2Nb_NDload_650C_15mms_00004.inp\n",
      "\n",
      "\n",
      "C:\\TOPAS5\\tc C:\\ChrisBatch\\adc_090_ZrY2Nb_NDload_650C_15mms_00004 \"macro filename { C:\\ChrisBatch\\Data\\adc_090_ZrY2Nb_NDload_650C_15mms_00005.xy}\"\n",
      "copy C:\\ChrisBatch\\adc_090_ZrY2Nb_NDload_650C_15mms_00004.out C:\\ChrisBatch\\adc_090_ZrY2Nb_NDload_650C_15mms_00005.inp\n",
      "\n",
      "\n",
      "pause\n"
     ]
    }
   ],
   "source": [
    "print(\"C:\\ncd C:\\TOPAS5\")\n",
    "\n",
    "start=0\n",
    "end=5\n",
    "batchfilepath=\"C:\\ChrisBatch\\\\\" #put in two \\\\ at end of path to prevent format error\n",
    "datafilename=\"adc_090_ZrY2Nb_NDload_650C_15mms_\"\n",
    "\n",
    "print(\"\\n\\nC:\\TOPAS5\\\\tc \" + str(batchfilepath) + str(datafilename) + \"{:05d} \\\"macro filename {{ \".format(start) \\\n",
    "+ str(batchfilepath) + \"Data\\\\\" + str(datafilename) + \"{:05d}.xy}}\\\"\\ncopy \".format(start) + str(batchfilepath) \\\n",
    "+ str(datafilename) + \"{:05d}.out \".format(start) + str(batchfilepath) + str(datafilename) + \"{:05d}.inp\".format(start))\n",
    "\n",
    "for i in range (start,end):\n",
    "    \n",
    "    x=i\n",
    "    y=i+1   \n",
    "    \n",
    "    print(\"\\n\\nC:\\TOPAS5\\\\tc \" + str(batchfilepath) + str(datafilename) + \"{:05d} \\\"macro filename {{ \".format(x) \\\n",
    "+ str(batchfilepath) + \"Data\\\\\" + str(datafilename) + \"{:05d}.xy}}\\\"\\ncopy \".format(y) + str(batchfilepath) \\\n",
    "+ str(datafilename) + \"{:05d}.out \".format(x) + str(batchfilepath) + str(datafilename) + \"{:05d}.inp\".format(y))\n",
    "    \n",
    "print(\"\\n\\npause\")"
   ]
  },
  {
   "cell_type": "markdown",
   "metadata": {},
   "source": [
    "## ​Write out the batch file"
   ]
  },
  {
   "cell_type": "code",
   "execution_count": 26,
   "metadata": {
    "collapsed": true
   },
   "outputs": [],
   "source": [
    "file=open('Batch_034.bat','w') # Name batch file with experiment number\n",
    "\n",
    "file.write(\"C:\\ncd C:\\TOPAS5\")\n",
    "\n",
    "start=0\n",
    "end=5103\n",
    "\n",
    "batchfilepath=\"C:\\ChrisBatch\\\\\" # Put in two \\\\ at end of path to prevent format error\n",
    "datafilename=\"adc_034_2Nb_TDload_725C_15mms_\"\n",
    "\n",
    "\n",
    "file.write(\"\\n\\nC:\\TOPAS5\\\\tc \" + str(batchfilepath) + str(datafilename) + \"{:05d} \\\"macro filename {{ \".format(start) \\\n",
    "+ str(batchfilepath) + \"Data\\\\\" + str(datafilename) + \"{:05d}.xy}}\\\"\\ncopy \".format(start) + str(batchfilepath) \\\n",
    "+ str(datafilename) + \"{:05d}.out \".format(start) + str(batchfilepath) + str(datafilename) + \"{:05d}.inp\".format(start))\n",
    "\n",
    "for i in range (start,end):\n",
    "    \n",
    "    x=i\n",
    "    y=i+1\n",
    "    \n",
    "    file.write(\"\\n\\nC:\\TOPAS5\\\\tc \" + str(batchfilepath) + str(datafilename) + \"{:05d} \\\"macro filename {{ \".format(x) \\\n",
    "+ str(batchfilepath) + \"Data\\\\\" + str(datafilename) + \"{:05d}.xy}}\\\"\\ncopy \".format(y) + str(batchfilepath) \\\n",
    "+ str(datafilename) + \"{:05d}.out \".format(x) + str(batchfilepath) + str(datafilename) + \"{:05d}.inp\".format(y))\n",
    "    \n",
    "file.write(\"\\n\\npause\")\n",
    "\n",
    "file.close()"
   ]
  }
 ],
 "metadata": {
  "kernelspec": {
   "display_name": "Python 3",
   "language": "python",
   "name": "python3"
  },
  "language_info": {
   "codemirror_mode": {
    "name": "ipython",
    "version": 3
   },
   "file_extension": ".py",
   "mimetype": "text/x-python",
   "name": "python",
   "nbconvert_exporter": "python",
   "pygments_lexer": "ipython3",
   "version": "3.6.8"
  }
 },
 "nbformat": 4,
 "nbformat_minor": 2
}
