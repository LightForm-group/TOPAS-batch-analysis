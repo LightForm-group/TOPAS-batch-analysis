{
 "cells": [
  {
   "cell_type": "code",
   "execution_count": null,
   "metadata": {},
   "outputs": [],
   "source": [
    "import numpy as np\n",
    "import matplotlib.pyplot as plt\n",
    "import yaml"
   ]
  },
  {
   "cell_type": "code",
   "execution_count": null,
   "metadata": {},
   "outputs": [],
   "source": [
    "def get_config(path: str) -> dict:\n",
    "    \"\"\"Open a yaml file and return the contents.\"\"\"\n",
    "    with open(path) as input_file:\n",
    "        return yaml.safe_load(input_file)"
   ]
  },
  {
   "cell_type": "markdown",
   "metadata": {
    "collapsed": true
   },
   "source": [
    "The file paths and user inputs for the analysis of the Diamond 2017, Diamond 2021 and DESY 2021 experiments are included in the `yaml` configuration files, to record the inputs of the analysis.\n",
    "\n",
    "The information in the `yaml` file can be accessed like this."
   ]
  },
  {
   "cell_type": "code",
   "execution_count": null,
   "metadata": {},
   "outputs": [],
   "source": [
    "# config_path = \"yaml/config_desy_2020_results.yaml\"\n",
    "# config_path = \"yaml/config_desy_2021_results.yaml\"\n",
    "config_path = \"yaml/config_diamond_2022_results_slow_acquisition.yaml\"\n",
    "\n",
    "config = get_config(config_path)"
   ]
  },
  {
   "cell_type": "markdown",
   "metadata": {},
   "source": [
    "Input the order number for the test you would like to look at. *Note, the start of a list in python is zero.* \n",
    "\n",
    "The order number will set the experiment number, defining the input and output file name, as well as defining the associated inputs from the yaml file, which will be used to analyse and plot the data for the test."
   ]
  },
  {
   "cell_type": "code",
   "execution_count": null,
   "metadata": {},
   "outputs": [],
   "source": [
    "order_number = 2\n",
    "#between 0 and 11 for DESY 2020 experiment, 0 and 3 for DESY 2021 experiment, 0 and 23 for Diamond 2022 experiment\n",
    "\n",
    "experiment_name = config[\"results_setup\"][\"experiment_name\"][order_number]\n",
    "print(\"The experiment name being analysed is: \", experiment_name)\n",
    "\n",
    "experiment_number = config[\"results_setup\"][\"experiment_number\"][order_number]\n",
    "print(\"The experiment number being analysed is: \", experiment_number)"
   ]
  },
  {
   "cell_type": "markdown",
   "metadata": {},
   "source": [
    "Load the data."
   ]
  },
  {
   "cell_type": "code",
   "execution_count": null,
   "metadata": {},
   "outputs": [],
   "source": [
    "input_filepath = config[\"results_setup\"][\"input_filepath\"].format(experiment_name = experiment_name, \n",
    "                                                                  experiment_number = experiment_number)\n",
    "output_filepath = config[\"results_setup\"][\"output_filepath\"].format(experiment_name = experiment_name, \n",
    "                                                                    experiment_number = experiment_number)\n",
    "\n",
    "data_array = np.loadtxt(input_filepath, usecols=(2,4,6,8,10,12))\n",
    "file_length = len(data_array)\n",
    "\n",
    "data_Rwp = np.loadtxt(input_filepath, usecols=(2))\n",
    "data_GOF = np.loadtxt(input_filepath, usecols=(4))\n",
    "data_alpha_a = np.loadtxt(input_filepath, usecols=(6))\n",
    "data_alpha_c = np.loadtxt(input_filepath, usecols=(8))\n",
    "data_alpha_wt = np.loadtxt(input_filepath, usecols=(10))\n",
    "data_beta_a = np.loadtxt(input_filepath, usecols=(12))\n",
    "data_beta_wt = np.loadtxt(input_filepath, usecols=(14))\n",
    "\n",
    "frame_number = np.arange(1,file_length+1,1)\n",
    "\n",
    "print(\"The input filepath is: \", input_filepath, sep='\\n', end='\\n\\n')\n",
    "print(\"And it contains\", file_length, \" analysed spectra from \", file_length, \" images.\")"
   ]
  },
  {
   "cell_type": "markdown",
   "metadata": {},
   "source": [
    "Are you applying limits to the data?"
   ]
  },
  {
   "cell_type": "code",
   "execution_count": null,
   "metadata": {},
   "outputs": [],
   "source": [
    "limits = config[\"results_setup\"][\"plot_bounds\"][\"limits\"]\n",
    "\n",
    "if limits:\n",
    "    deformation_start = config[\"results_setup\"][\"plot_bounds\"][\"deformation_start\"][order_number]\n",
    "    deformation_end = config[\"results_setup\"][\"plot_bounds\"][\"deformation_end\"][order_number]\n",
    "    rwp_min = config[\"results_setup\"][\"plot_bounds\"][\"rwp_min\"][order_number]\n",
    "    rwp_max = config[\"results_setup\"][\"plot_bounds\"][\"rwp_max\"][order_number]\n",
    "    gof_min = config[\"results_setup\"][\"plot_bounds\"][\"gof_min\"][order_number]\n",
    "    gof_max = config[\"results_setup\"][\"plot_bounds\"][\"gof_max\"][order_number]\n",
    "    alpha_c_min = config[\"results_setup\"][\"plot_bounds\"][\"alpha_c_min\"][order_number]\n",
    "    alpha_c_max = config[\"results_setup\"][\"plot_bounds\"][\"alpha_c_max\"][order_number]\n",
    "    alpha_a_min = config[\"results_setup\"][\"plot_bounds\"][\"alpha_a_min\"][order_number]\n",
    "    alpha_a_max = config[\"results_setup\"][\"plot_bounds\"][\"alpha_a_max\"][order_number]  \n",
    "    beta_a_min = config[\"results_setup\"][\"plot_bounds\"][\"beta_a_min\"][order_number]\n",
    "    beta_a_max = config[\"results_setup\"][\"plot_bounds\"][\"beta_a_max\"][order_number]\n",
    "    \n",
    "    print(\"The following limits are being applied to the subsequent plots...\", end='\\n\\n')\n",
    "    print(\"The deformation start is frame number: \", deformation_start, \" and the deformation end is : \", deformation_end, end='\\n\\n')\n",
    "    print(\"The Rwp error minimum is: \", rwp_min, \" and the Rwp maximum is: \", rwp_max, end='\\n\\n')\n",
    "    print(\"The Goodness of Fit (GOF) minimum is: \", gof_min, \" and the GOF maximum is: \", gof_max, end='\\n\\n')\n",
    "    print(\"The alpha_c lattice parameter minimum is: \", alpha_c_min, \" and the alpha_c maximum is: \", alpha_c_max, end='\\n\\n')\n",
    "    print(\"The alpha_a lattice parameter minimum is: \", alpha_a_min, \" and the alpha_a maximum is: \", alpha_a_max, end='\\n\\n')\n",
    "    print(\"The beta_a lattice parameter minimum is: \", beta_a_min, \" and the beta_a maximum is: \", beta_a_max)\n",
    "\n",
    "elif not limits:\n",
    "    print(\"Limits are NOT being applied to the subsequent plots.\")"
   ]
  },
  {
   "cell_type": "markdown",
   "metadata": {},
   "source": [
    "Plot commands."
   ]
  },
  {
   "cell_type": "code",
   "execution_count": null,
   "metadata": {},
   "outputs": [],
   "source": [
    "plt.rc('xtick',labelsize=20)\n",
    "plt.rc('ytick',labelsize=20)\n",
    "plt.rc('legend',fontsize=20)\n",
    "plt.rc('axes',linewidth=2)\n",
    "plt.rc('xtick.major',width=2,size=10)\n",
    "plt.rc('xtick.minor', width=2, size=5)\n",
    "plt.rc('ytick.major',width=2,size=10)\n",
    "plt.rc('ytick.minor',width=2,size=5)"
   ]
  },
  {
   "cell_type": "markdown",
   "metadata": {},
   "source": [
    "Plot the $\\mathrm{R_{wp}}$ value"
   ]
  },
  {
   "cell_type": "code",
   "execution_count": null,
   "metadata": {
    "scrolled": false
   },
   "outputs": [],
   "source": [
    "plt.figure(figsize=(10,8))\n",
    "plt.minorticks_on()\n",
    "\n",
    "plt.plot(frame_number[:],data_Rwp[:],color='black',linewidth=5);\n",
    "\n",
    "plt.xlabel('Frame Number', fontsize=28)\n",
    "plt.ylabel('$\\mathrm{R_{wp}}$ Value', fontsize=28)\n",
    "\n",
    "if limits:\n",
    "    plt.ylim(rwp_min,rwp_max)\n",
    "\n",
    "elif not limits:\n",
    "    plt.ylim(0)\n",
    "    \n",
    "plt.xlim(0,file_length)\n",
    "\n",
    "plt.savefig(\"{output_filepath}/Rwp_{experiment_number}.png\".format(output_filepath = output_filepath, \n",
    "                                                                   experiment_number = experiment_number))\n",
    "plt.show()"
   ]
  },
  {
   "cell_type": "markdown",
   "metadata": {},
   "source": [
    "Plot the goodness of fit."
   ]
  },
  {
   "cell_type": "code",
   "execution_count": null,
   "metadata": {},
   "outputs": [],
   "source": [
    "plt.figure(figsize=(10,8))\n",
    "plt.minorticks_on()\n",
    "\n",
    "plt.plot(frame_number[:],data_GOF[:],color='darkviolet',linewidth=5 );\n",
    "\n",
    "plt.xlabel('Frame Number', fontsize=28)\n",
    "plt.ylabel('GOF Value', fontsize=28)\n",
    "\n",
    "if limits:\n",
    "    plt.ylim(gof_min,gof_max)\n",
    "\n",
    "elif not limits:\n",
    "    plt.ylim(0)\n",
    "    \n",
    "plt.xlim(0,file_length)\n",
    "\n",
    "plt.savefig('{output_filepath}/GOF_{experiment_number}.png'.format(output_filepath = output_filepath, \n",
    "                                                                   experiment_number = experiment_number))\n",
    "plt.show()"
   ]
  },
  {
   "cell_type": "markdown",
   "metadata": {},
   "source": [
    "Plot the $\\alpha$ and $\\beta$ lattice parameters for the entire experiment."
   ]
  },
  {
   "cell_type": "code",
   "execution_count": null,
   "metadata": {
    "scrolled": false
   },
   "outputs": [],
   "source": [
    "frame_acquisition = config[\"results_setup\"][\"frame_acquisition\"]\n",
    "\n",
    "if frame_acquisition:\n",
    "\n",
    "    seconds = frame_number / frame_acquisition\n",
    "\n",
    "    fig,((ax1),(ax2),(ax3)) = plt.subplots(3, 1, figsize=(20,10))\n",
    "\n",
    "    ax1.plot(seconds[:],data_alpha_c[:],label='${\\\\alpha_c}$',color='red',linewidth=5)    \n",
    "    ax1.minorticks_on()\n",
    "    ax1.legend(loc=1, bbox_to_anchor=(0.125,1), prop={'size': 25}) #top left\n",
    "#     ax1.legend(loc=1, bbox_to_anchor=(0.125,0.42), prop={'size': 25}) #bottom left\n",
    "\n",
    "    ax2.set_ylabel('Lattice Parameter, ${\\\\AA}$ ', fontsize=36)\n",
    "    ax2.yaxis.set_label_coords(-0.07,0.5)\n",
    "    ax2.plot(seconds[:],data_alpha_a[:], label='${\\\\alpha_a}$', color='green',linewidth=5)\n",
    "    ax2.minorticks_on()\n",
    "    ax2.legend(loc=1, bbox_to_anchor=(0.125,1), prop={'size': 25}) #top left\n",
    "#     ax2.legend(loc=1, bbox_to_anchor=(0.125,0.42), prop={'size': 25}) #bottom left\n",
    "\n",
    "    ax3.plot(seconds[:],data_beta_a[:],label='${\\\\beta_a}$',color='blue',linewidth=5)\n",
    "    ax3.set_xlabel('Time, s', fontsize=36)\n",
    "    ax3.minorticks_on()\n",
    "    ax3.legend(loc=1, bbox_to_anchor=(0.125,1), prop={'size': 25}) #top left\n",
    "#     ax3.legend(loc=1, bbox_to_anchor=(0.125,0.42), prop={'size': 25}) #bottom left\n",
    "\n",
    "    plt.savefig('{output_filepath}/lattice_full_seconds_{experiment_number}.png'.format(output_filepath = output_filepath, \n",
    "                                                                                 experiment_number = experiment_number))\n",
    "    plt.show()\n",
    "    \n",
    "elif not frame_acquisition:\n",
    "    fig,((ax1),(ax2),(ax3))=plt.subplots(3, 1, figsize=(20,10))\n",
    "\n",
    "    ax1.plot(frame_number[:],data_alpha_c[:],label='${\\\\alpha_c}$',color='red',linewidth=5)\n",
    "    ax1.minorticks_on()\n",
    "    ax1.legend(loc=1, bbox_to_anchor=(0.125,1), prop={'size': 25}) #top left\n",
    "#     ax1.legend(loc=1, bbox_to_anchor=(0.125,0.42), prop={'size': 25}) #bottom left\n",
    "\n",
    "    ax2.set_ylabel('Lattice Parameter, ${\\\\AA}$ ', fontsize=36)\n",
    "    ax2.yaxis.set_label_coords(-0.07,0.5)\n",
    "    ax2.plot(frame_number[:],data_alpha_a[:], label='${\\\\alpha_a}$', color='green',linewidth=5)\n",
    "    ax2.minorticks_on()\n",
    "    ax2.legend(loc=1, bbox_to_anchor=(0.125,1), prop={'size': 25}) #top left\n",
    "#     ax2.legend(loc=1, bbox_to_anchor=(0.125,0.42), prop={'size': 25}) #bottom left\n",
    "\n",
    "    ax3.plot(frame_number[:],data_beta_a[:],label='${\\\\beta_a}$',color='blue',linewidth=5)\n",
    "    ax3.set_xlabel('Frame Number', fontsize=36)\n",
    "    ax3.minorticks_on()\n",
    "    ax3.legend(loc=1, bbox_to_anchor=(0.125,1), prop={'size': 25}) #top left\n",
    "#     ax3.legend(loc=1, bbox_to_anchor=(0.125,0.42), prop={'size': 25}) #bottom left\n",
    "\n",
    "    plt.savefig('{output_filepath}/lattice_full_frames_{experiment_number}.png'.format(output_filepath = output_filepath, \n",
    "                                                                                experiment_number = experiment_number))\n",
    "    plt.show()"
   ]
  },
  {
   "cell_type": "markdown",
   "metadata": {},
   "source": [
    "Plot the $\\alpha$ and $\\beta$ lattice parameters during loading."
   ]
  },
  {
   "cell_type": "code",
   "execution_count": null,
   "metadata": {},
   "outputs": [],
   "source": [
    "limit_warning = \"Limits have not been applied in the yaml file, please create limits for start and end of deformation, and limits for the lattice cell.\"\n",
    "\n",
    "if frame_acquisition:\n",
    "    \n",
    "    if limits: \n",
    "        \n",
    "        fig,((ax1),(ax2),(ax3)) = plt.subplots(3, 1, figsize=(20,10))\n",
    "\n",
    "        ax1.plot(seconds[:],data_alpha_c[:],label='${\\\\alpha_c}$',color='red',linewidth=5)\n",
    "        ax1.set_xlim(deformation_start/frame_acquisition, deformation_end/frame_acquisition)\n",
    "        ax1.set_ylim(alpha_c_min, alpha_c_max)\n",
    "        ax1.minorticks_on()\n",
    "#         ax1.legend(loc=1, bbox_to_anchor=(0.125,1), prop={'size': 25}) #top left\n",
    "        ax1.legend(loc=1, bbox_to_anchor=(0.125,0.42), prop={'size': 25}) #bottom left\n",
    "\n",
    "        ax2.set_ylabel('Lattice Parameter, ${\\\\AA}$ ', fontsize=36)\n",
    "        ax2.yaxis.set_label_coords(-0.07,0.5)\n",
    "        ax2.plot(seconds[:],data_alpha_a[:], label='${\\\\alpha_a}$', color='green',linewidth=5)\n",
    "        ax2.set_xlim(deformation_start/frame_acquisition, deformation_end/frame_acquisition)\n",
    "        ax2.set_ylim(alpha_a_min, alpha_a_max)\n",
    "        ax2.minorticks_on()\n",
    "#         ax2.legend(loc=1, bbox_to_anchor=(0.125,1), prop={'size': 25}) #top left\n",
    "        ax2.legend(loc=1, bbox_to_anchor=(0.125,0.42), prop={'size': 25}) #bottom left\n",
    "\n",
    "        ax3.plot(seconds[:],data_beta_a[:],label='${\\\\beta_a}$',color='blue',linewidth=5)\n",
    "        ax3.set_xlabel('Time, s', fontsize=36)\n",
    "        ax3.set_xlim(deformation_start/frame_acquisition, deformation_end/frame_acquisition)\n",
    "        ax3.set_ylim(beta_a_min, beta_a_max)\n",
    "        ax3.minorticks_on()\n",
    "#         ax3.legend(loc=1, bbox_to_anchor=(0.125,1), prop={'size': 25}) #top left\n",
    "        ax3.legend(loc=1, bbox_to_anchor=(0.125,0.42), prop={'size': 25}) #bottom left\n",
    "\n",
    "        plt.savefig('{output_filepath}/lattice_deform_seconds_{experiment_number}.png'.format(output_filepath = output_filepath, \n",
    "                                                                                       experiment_number = experiment_number))\n",
    "        plt.show()\n",
    "        \n",
    "    elif not limits:\n",
    "        \n",
    "        print(limit_warning)\n",
    "        \n",
    "elif not frame_acquisition:\n",
    "    \n",
    "    if limits: \n",
    "        \n",
    "        fig,((ax1),(ax2),(ax3)) = plt.subplots(3, 1, figsize=(20,10))\n",
    "\n",
    "        ax1.plot(frame_number[:],data_alpha_c[:],label='${\\\\alpha_c}$',color='red',linewidth=5)\n",
    "        ax1.set_xlim(deformation_start, deformation_end)\n",
    "        ax1.set_ylim(alpha_c_min, alpha_c_max)\n",
    "        ax1.minorticks_on()\n",
    "#         ax1.legend(loc=1, bbox_to_anchor=(0.125,1), prop={'size': 25}) #top left\n",
    "        ax1.legend(loc=1, bbox_to_anchor=(0.125,0.42), prop={'size': 25}) #bottom left\n",
    "\n",
    "        ax2.set_ylabel('Lattice Parameter, ${\\\\AA}$ ', fontsize=36)\n",
    "        ax2.yaxis.set_label_coords(-0.07,0.5)\n",
    "        ax2.plot(frame_number[:],data_alpha_a[:], label='${\\\\alpha_a}$', color='green',linewidth=5)\n",
    "        ax2.set_xlim(deformation_start, deformation_end)\n",
    "        ax2.set_ylim(alpha_a_min, alpha_a_max)\n",
    "        ax2.minorticks_on()\n",
    "#         ax2.legend(loc=1, bbox_to_anchor=(0.125,1), prop={'size': 25}) #top left\n",
    "        ax2.legend(loc=1, bbox_to_anchor=(0.125,0.42), prop={'size': 25}) #bottom left\n",
    "\n",
    "        ax3.plot(frame_number[:],data_beta_a[:],label='${\\\\beta_a}$',color='blue',linewidth=5)\n",
    "        ax3.set_xlabel('Frame Number', fontsize=36)\n",
    "        ax3.set_xlim(deformation_start, deformation_end)\n",
    "        ax3.set_ylim(beta_a_min, beta_a_max)\n",
    "        ax3.minorticks_on()\n",
    "#         ax3.legend(loc=1, bbox_to_anchor=(0.125,1), prop={'size': 25}) #top left\n",
    "        ax3.legend(loc=1, bbox_to_anchor=(0.125,0.42), prop={'size': 25}) #bottom left\n",
    "\n",
    "        plt.savefig('{output_filepath}/lattice_deform_frames_{experiment_number}.png'.format(output_filepath = output_filepath, \n",
    "                                                                                      experiment_number = experiment_number))\n",
    "        plt.show()\n",
    "        \n",
    "    elif not limits:\n",
    "        \n",
    "        print(limit_warning)"
   ]
  },
  {
   "cell_type": "markdown",
   "metadata": {},
   "source": [
    "Plot the $\\alpha$ and $\\beta$ phase fraction for the entire experiment."
   ]
  },
  {
   "cell_type": "code",
   "execution_count": null,
   "metadata": {},
   "outputs": [],
   "source": [
    "if frame_acquisition:\n",
    "    \n",
    "    second_length = file_length / frame_acquisition\n",
    "\n",
    "    plt.figure(figsize = (10,8))\n",
    "\n",
    "    plt.minorticks_on()\n",
    "    plt.plot(seconds[:],data_alpha_wt[:],label='${\\\\alpha}$-phase', color='red',linewidth=8);\n",
    "    plt.plot(seconds[:],data_beta_wt[:],label='${\\\\beta}$-phase',color='blue',linewidth=8)\n",
    "\n",
    "    plt.xlabel('Time, s', fontsize=28)\n",
    "    plt.ylabel('Phase Fraction, wt.%', fontsize=28)\n",
    "\n",
    "    plt.xlim(0,second_length)\n",
    "    plt.ylim(0,100)\n",
    "\n",
    "    plt.legend()\n",
    "    \n",
    "    plt.savefig('{output_filepath}/phasefrac_full_seconds_{experiment_number}.png'.format(output_filepath = output_filepath, \n",
    "                                                                                   experiment_number = experiment_number))\n",
    "    plt.show()\n",
    "    \n",
    "elif not frame_acquisition:\n",
    "    \n",
    "    plt.figure(figsize=(10,8))\n",
    "\n",
    "    plt.minorticks_on()\n",
    "    plt.plot(frame_number[:],data_alpha_wt[:], label='${\\\\alpha}$-phase', color='red',linewidth=8);\n",
    "    plt.plot(frame_number[:],data_beta_wt[:],label='${\\\\beta}$-phase',color='blue',linewidth=8)\n",
    "\n",
    "    plt.xlabel('Frame Number', fontsize=28)\n",
    "    plt.ylabel('Phase Fraction, wt.%', fontsize=28)\n",
    "\n",
    "    plt.xlim(0,file_length)\n",
    "    plt.ylim(0,100)\n",
    "\n",
    "    plt.legend()\n",
    "\n",
    "    plt.savefig('{output_filepath}/phasefrac_full_frames_{experiment_number}.png'.format(output_filepath = output_filepath, \n",
    "                                                                                  experiment_number = experiment_number))\n",
    "    plt.show()"
   ]
  },
  {
   "cell_type": "markdown",
   "metadata": {},
   "source": [
    "Plot the $\\alpha$ and $\\beta$ phase fraction during loading."
   ]
  },
  {
   "cell_type": "code",
   "execution_count": null,
   "metadata": {},
   "outputs": [],
   "source": [
    "if frame_acquisition:\n",
    "    \n",
    "    if limits:\n",
    "        \n",
    "        second_length = file_length / frame_acquisition\n",
    "\n",
    "        plt.figure(figsize = (10,8))\n",
    "\n",
    "        plt.minorticks_on()\n",
    "        plt.plot(seconds[:],data_alpha_wt[:],label='${\\\\alpha}$-phase', color='red',linewidth=8);\n",
    "        plt.plot(seconds[:],data_beta_wt[:],label='${\\\\beta}$-phase',color='blue',linewidth=8)\n",
    "\n",
    "        plt.xlabel('Time, s', fontsize=28)\n",
    "        plt.ylabel('Phase Fraction, wt.%', fontsize=28)\n",
    "\n",
    "        plt.xlim(deformation_start/frame_acquisition,deformation_end/frame_acquisition)\n",
    "        plt.ylim(0,100)\n",
    "\n",
    "        plt.legend()\n",
    "\n",
    "        plt.savefig('{output_filepath}/phasefrac_deform_seconds_{experiment_number}.png'.format(output_filepath = output_filepath, \n",
    "                                                                                         experiment_number = experiment_number))\n",
    "        plt.show()\n",
    "\n",
    "    elif not limits:\n",
    "\n",
    "        print(limit_warning)\n",
    "\n",
    "elif not frame_acquisition:\n",
    "\n",
    "    if limits:\n",
    "        \n",
    "        plt.figure(figsize=(10,8))\n",
    "\n",
    "        plt.minorticks_on()\n",
    "        plt.plot(frame_number[:],data_alpha_wt[:], label='${\\\\alpha}$-phase', color='red',linewidth=8);\n",
    "        plt.plot(frame_number[:],data_beta_wt[:],label='${\\\\beta}$-phase',color='blue',linewidth=8)\n",
    "\n",
    "        plt.xlabel('Frame Number', fontsize=28)\n",
    "        plt.ylabel('Phase Fraction, wt.%', fontsize=28)\n",
    "\n",
    "        plt.xlim(deformation_start,deformation_end)\n",
    "        plt.ylim(0,100)\n",
    "\n",
    "        plt.legend()\n",
    "\n",
    "        plt.savefig('{output_filepath}/phasefrac_deform_frames_{experiment_number}.png'.format(output_filepath = output_filepath, \n",
    "                                                                                        experiment_number = experiment_number))\n",
    "        plt.show()\n",
    "\n",
    "    elif not limits:\n",
    "\n",
    "        print(limit_warning)"
   ]
  },
  {
   "cell_type": "code",
   "execution_count": null,
   "metadata": {},
   "outputs": [],
   "source": []
  }
 ],
 "metadata": {
  "kernelspec": {
   "display_name": "Python 3 (ipykernel)",
   "language": "python",
   "name": "python3"
  },
  "language_info": {
   "codemirror_mode": {
    "name": "ipython",
    "version": 3
   },
   "file_extension": ".py",
   "mimetype": "text/x-python",
   "name": "python",
   "nbconvert_exporter": "python",
   "pygments_lexer": "ipython3",
   "version": "3.7.3"
  }
 },
 "nbformat": 4,
 "nbformat_minor": 2
}
