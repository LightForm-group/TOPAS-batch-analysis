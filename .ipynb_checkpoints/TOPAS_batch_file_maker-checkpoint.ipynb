{
 "cells": [
  {
   "cell_type": "markdown",
   "metadata": {},
   "source": [
    "This notebook is a guide to setting up TOPAS batch mode. It also produces a batch script to run the analysis."
   ]
  },
  {
   "cell_type": "markdown",
   "metadata": {},
   "source": [
    "## Notes on manual fitting in TOPAS using the GUI"
   ]
  },
  {
   "cell_type": "markdown",
   "metadata": {},
   "source": [
    "**1. Load scan files** \n",
    "- In .raw format for XRD, or .xy format for SXRD. \n",
    "- Load scan files option found under *'File'* tab. Can load more than one scan at a time or refine each pattern separately. \n",
    "- Options to change settings in global (changes all at once across all scans), or you can change each scan individually.\n",
    "\n",
    "**2. Emission profile** \n",
    "- If Lab-XRD data, then load *‘emission profile’* for each of the scans (CoKa3.Iam is the standard Cobalt emission profile). This builds the profile of apolychromatic source by sharing the beam composition.\n",
    "- If SXRD data, only one profile is needed in *'emission profile'*, since it is monochromatic, so the second profile can be deleted. \n",
    "- Change the area to 0.01, wavelength to 0.1391986 angstrom, Lortz/area to 0.01 (lowest possible), delete other column. \n",
    "- Set Ymin – Ymax as 1 e-5 in emission profile options, which defines the ratio of peak to width. Sharp peaks in SXRD mean low value of 1 e-5 is appropriate. \n",
    "- *Note, @ is used to refine a parameter.*\n",
    "    \n",
    "**3. Background** \n",
    "- Set Chebychev order 5 and tick 1/x bkg and refine with 1000 steps. The 1/x background corrects for large background at low scattering angles in L-XRD.\n",
    "\n",
    "**4. Instrument** \n",
    "- For XRD set radius of 33 cm (330 mm) for the distance of the primary and secondary goniometer arms (for Bruker D8-Discover).  Select linear PSD and refine. Use simple axial model, due to effect of conical beam of varying intensity, to account for the umbrella effect of the diffraction cone within the Ewald sphere, where intensity can vary depending on source/detector position.\n",
    "- For SXRD untick point detector. Beam delivering slits in EH1 at Diamond I12 mean R-primary = 47 m (47000 mm) and sample-detector distance mean R-secondary = 1500 mm for Zr or 12000 mm for Ti. Use simple axial model with default value of 12.\n",
    "\n",
    "**5. Corrections** \n",
    "- For XRD tick Lorentz-Polarisation (LP) factor and change to 0. A graphite monochromator = 26.4\n",
    "- For SXRD change LP factor to 90 and fix.\n",
    "- 2th correction for sample displacement. Corrects for sample Z height (defining zero position). Start at zero, only refine at the end. Not required for SXRD, but certainly needed for XRD setup.\n",
    "- Option to tick zero order error in peak shift to improve fit. Zero error occurs due to slight detector misalignment between the actual zero position of the goniometer versus what the microswitch believes is zero.\n",
    "\n",
    "**6. Miscellaneous** \n",
    "\n",
    "- 0.0001 calculation steps (finer will slow refinement down, coarser could lead to square peaks). \n",
    "- Set start x = 2.4$^\\circ$ and finish x = 8.94$^\\circ$ for the range of 2-theta.\n",
    "\n",
    "**7. Load cifs and refine** \n",
    "\n",
    "- Load cifs by right clicking in the scan experiment. \n",
    "- For two-phase materials, first start with only alpha-phase and refine the parameters, then tick use the beta phase cif and to improve the fit to the second phase. \n",
    "- Untick crystal size steps (switch off). Choose peak type = PV_TCHZ, which combines L and G (Lorentzian and Gaussian). TCHZ Thompson-Cox-Hastings psuedo-Voight is best for L-XRD and SXRD. Pseudo-Voigt is fast, but not the best fit. For sycnhrotron may also use PVII (Pearson 7), but this can go awry. \n",
    "- Firstly, fix cell parameters and refine only the scale parameters. Scale governs magnitude of peak intensites based on a convolution of the various structural parameters. Leave preferred orientation turned off. \n",
    "- Then, refine cell params and add in texture if needed. Try increasing preferred orientation from order 2, 4 and 6 (maybe 8 for very strong alignment).\n",
    "\n",
    "**8. Goodness of fit** \n",
    "\n",
    "- A value of Rwp < 15 is a good result. But, the fitting quality is better determined by the goodness of fit (GOF). Generally GOF < 2 is considered excellent, < 3 is acceptable and < 1 is beginning to over-constrain the model fitting.\n",
    "\n",
    "*Note, possible error (cannot find file in isotopes.txt) is due to missing atomic sites, such as a Ti atom needing to be filled in in the SITES option. Another error can also arise due to cubic phase missing a hyphen Im3m = Im-3m.*\n",
    "\n",
    "** 9. Save analysis as .pro file**\n",
    "- For reloading in TOPAS"
   ]
  },
  {
   "cell_type": "markdown",
   "metadata": {},
   "source": [
    "## Setting up TOPAS in batch mode"
   ]
  },
  {
   "cell_type": "markdown",
   "metadata": {},
   "source": [
    "**1. Download jedit 4.3**\n",
    "- See John Evans TOPAS jEdit Install for instructions - https://community.dur.ac.uk/john.evans/topas_academic/jedit_setup.htm\n",
    "- *Note, there is a problem with the plugins disappearing.*\n",
    "\n",
    "**2. Use TOPAS5 (version 5.0)**\n",
    "\n",
    "**3. Create TOPAS .inp analysis file**\n",
    "- Use example .inp file for Ti-64 or Zr-2.5Nb materials and open in jEdit. \n",
    "- *Note, commented instructions are included throughout the .inp file.*\n",
    "- In java the **‘** signals a commented line. To load an individual fit, uncomment 'macro filename' and give the absolute path to the .xy data file. To run batch mode comment out 'macro filename' to reference different data files.\n",
    "- *'#define report'* at the top writes out a report, with the contents defined at the bottom *'#ifdef report...'* \n",
    "- Results for named parameters can be included in the output report - **results.txt**\n",
    "- The command xdd runs the analysis on the given filename.\n",
    "- @ means refine, no @ means fix.\n",
    "- If named value then ! is needed to fix it, i.e. ba1 will refine, !ba1 is fixed.\n",
    "- Set zero background (5 zeros for refining 5 parameters) - *bkg @ 0 0 0 0 0*\n",
    "- Set zero 1/x, zero error, scale.\n",
    "- Fix LP factor 90, specimen displacement 0, simple axial model 12, ymin - ymax 0.00001, wavelength  0.1391986, calculation step 0.0001.\n",
    "- Delete spherical harmonics and replace with *'PO_Spherical_Harmonics(sh_1, 6)'*\n",
    "- Biso refinement not needed. *Note, to refine biso use Beq @ 0 min = 0*\n",
    "\n",
    "- **Save the .inp file with the same name as azimuthally integrated .xy datafiles.**\n",
    "\n",
    "**4. Run refinment for first .inp file**\n",
    "- Open TOPAS5.\n",
    "- Click on launch mode (rocket icon, right hand side).\n",
    "- *'Launch Mode: C:\\ChrisBatch\\ ...inp'* should appear.\n",
    "- Click run (play icon, right hand side).\n",
    "\n",
    "**5. Write batch mode as ‘batch.bat’ file using the script below**\n",
    "- Assume working in C-drive, so change directory to *C:\\TOPAS5*.  \n",
    "- *C:\\TOPAS5\\tc* launches an executable for refining external .inp files.\n",
    "- Batch files should be located in a seperate folder on C-drive - *C:\\ChrisBatch\\*\n",
    "- Each line of the batch file contains: 'macro filename' of current analysis, absolute path for the next .xy data files, filename for current analysis output, filename for current output .inp file.\n",
    "- *'pause'* leaves command window open at the end (rather than *'end'* which would close it).\n",
    "\n",
    "**6. Data organisation on Windows computer**\n",
    "- C:\\ChrisBatch\\\n",
    "    - .bat batch mode file\n",
    "    - .inp file for first refined analysis\n",
    "    - Data\\\n",
    "        - .xy data files\n",
    "        \n",
    "**7. Run batch mode**\n",
    "- Double click .bat file."
   ]
  },
  {
   "cell_type": "markdown",
   "metadata": {},
   "source": [
    "## Write out the batch file"
   ]
  },
  {
   "cell_type": "markdown",
   "metadata": {},
   "source": [
    "The batch file to run the TOPAS analysis in batch mode can be setup using the function below..."
   ]
  },
  {
   "cell_type": "code",
   "execution_count": 4,
   "metadata": {},
   "outputs": [],
   "source": [
    "def create_batch_file(output_filepath: str, start: int, end: int, \n",
    "                      batch_filepath: str, data_filename: str):\n",
    "\n",
    "    \"\"\"Write out batch file, containing input and output filepaths, \n",
    "    for running TOPAS in batch mode.\n",
    "    \n",
    "    :output_filepath: path to save the TOPAS batch file.\n",
    "    :start: start number of data files to analyse.\n",
    "    :end: end number of data files to analyse.\n",
    "    :batch_filepath: general filepath for Windows folder containing the batch analysis.\n",
    "    :data_filename: name of the azimuthal integration files (and TOPAS input files) for TOPAS analysis.\n",
    "    \n",
    "    \"\"\"\n",
    "\n",
    "    file=open(output_filepath,'w')\n",
    "\n",
    "    file.write(\"C:\\ncd C:\\TOPAS5\")\n",
    "\n",
    "    file.write(\"\\n\\nC:\\TOPAS5\\\\tc \" + str(batch_filepath) + str(data_filename) + \"{:05d} \\\"macro filename {{ \".format(start) \\\n",
    "    + str(batch_filepath) + \"Data\\\\\" + str(data_filename) + \"{:05d}.xy}}\\\"\\ncopy \".format(start) + str(batch_filepath) \\\n",
    "    + str(data_filename) + \"{:05d}.out \".format(start) + str(batch_filepath) + str(data_filename) + \"{:05d}.inp\".format(start))\n",
    "\n",
    "    for i in range (start,end):\n",
    "\n",
    "        x = i\n",
    "        y = i + 1\n",
    "\n",
    "        file.write(\"\\n\\nC:\\TOPAS5\\\\tc \" + str(batch_filepath) + str(data_filename) + \"{:05d} \\\"macro filename {{ \".format(x) \\\n",
    "    + str(batch_filepath) + \"Data\\\\\" + str(data_filename) + \"{:05d}.xy}}\\\"\\ncopy \".format(y) + str(batch_filepath) \\\n",
    "    + str(data_filename) + \"{:05d}.out \".format(x) + str(batch_filepath) + str(data_filename) + \"{:05d}.inp\".format(y))\n",
    "\n",
    "    file.write(\"\\n\\npause\")\n",
    "\n",
    "    file.close()"
   ]
  },
  {
   "cell_type": "code",
   "execution_count": 5,
   "metadata": {},
   "outputs": [],
   "source": [
    "# for the Diamond 2017 analysis\n",
    "start = 0\n",
    "end = 5655\n",
    "output_filepath = 'batch_files/Batch_065.bat'\n",
    "batch_filepath = \"C:\\ChrisBatch\\\\\" # Put in two \\\\ at end of path to prevent format error\n",
    "data_filename = \"adc_065_Ti64_NDload_900C_15mms_\"\n",
    "\n",
    "create_batch_file(output_filepath, start, end, batch_filepath, data_filename)"
   ]
  },
  {
   "cell_type": "code",
   "execution_count": null,
   "metadata": {},
   "outputs": [],
   "source": [
    "# for the DESY 2021 analysis\n",
    "start = 0\n",
    "end = 5655\n",
    "output_filepath = 'batch_files/Batch_065.bat'\n",
    "batch_filepath = \"C:\\ChrisBatch\\\\\" # Put in two \\\\ at end of path to prevent format error\n",
    "data_filename = \"adc_065_Ti64_NDload_900C_15mms_\"\n",
    "\n",
    "create_batch_file(output_filepath, start, end, batch_filepath, data_filename)"
   ]
  }
 ],
 "metadata": {
  "kernelspec": {
   "display_name": "Python 3 (ipykernel)",
   "language": "python",
   "name": "python3"
  },
  "language_info": {
   "codemirror_mode": {
    "name": "ipython",
    "version": 3
   },
   "file_extension": ".py",
   "mimetype": "text/x-python",
   "name": "python",
   "nbconvert_exporter": "python",
   "pygments_lexer": "ipython3",
   "version": "3.7.3"
  }
 },
 "nbformat": 4,
 "nbformat_minor": 2
}
